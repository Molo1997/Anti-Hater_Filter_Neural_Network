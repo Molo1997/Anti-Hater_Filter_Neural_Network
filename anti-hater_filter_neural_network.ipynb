{
  "nbformat": 4,
  "nbformat_minor": 0,
  "metadata": {
    "colab": {
      "provenance": []
    },
    "kernelspec": {
      "name": "python3",
      "display_name": "Python 3"
    },
    "language_info": {
      "name": "python"
    }
  },
  "cells": [
    {
      "cell_type": "markdown",
      "source": [
        "## Import librerie, risorse e dataset\n"
      ],
      "metadata": {
        "id": "FCj8JuWUWPse"
      }
    },
    {
      "cell_type": "code",
      "execution_count": 20,
      "metadata": {
        "id": "Jkd5ta_5p-pT"
      },
      "outputs": [],
      "source": [
        "import numpy as np\n",
        "import pandas as pd\n",
        "import re\n",
        "import os\n",
        "import json\n",
        "import matplotlib.pyplot as plt\n",
        "from sklearn.model_selection import train_test_split\n",
        "from sklearn.metrics import f1_score, precision_score, recall_score, fbeta_score, confusion_matrix\n",
        "from tensorflow.keras.preprocessing.text import Tokenizer\n",
        "from tensorflow.keras.preprocessing.sequence import pad_sequences\n",
        "from tensorflow.keras.layers import Input, Embedding, LSTM, Dense, Dropout, BatchNormalization, GlobalMaxPooling1D\n",
        "# from tensorflow.keras.layers import SpatialDropout1D, LeakyReLU, Bidirectional, Lambda, Multiply, Activation, Permute, Flatten, RepeatVector, Concatenate\n",
        "from tensorflow.keras.layers import SpatialDropout1D, Bidirectional\n",
        "from tensorflow.keras.models import Model\n",
        "from tensorflow.keras.optimizers import Adam\n",
        "from tensorflow.keras.callbacks import EarlyStopping, ReduceLROnPlateau, ModelCheckpoint\n",
        "from tensorflow.keras.regularizers import l2\n",
        "import tensorflow.keras.backend as K\n",
        "import tensorflow as tf\n",
        "from imblearn.over_sampling import SMOTE\n",
        "import pickle\n",
        "\n",
        "output_dir = './model_results'\n",
        "os.makedirs(output_dir, exist_ok=True)"
      ]
    },
    {
      "cell_type": "code",
      "source": [
        "dataset_paths = '../Filter_Toxic_Comments_dataset.csv'\n",
        "data = pd.read_csv(dataset_paths)"
      ],
      "metadata": {
        "id": "N59Nqe4sqViu"
      },
      "execution_count": 14,
      "outputs": []
    },
    {
      "cell_type": "markdown",
      "source": [
        "## Modello Deep Learning"
      ],
      "metadata": {
        "id": "3_Dh2ATaWb6z"
      }
    },
    {
      "cell_type": "markdown",
      "source": [
        "Parte 1:\n",
        "Preprocessing del testo: Converte il testo in minuscolo, rimuove caratteri speciali mantenendo lettere, spazi e punteggiatura importante poi gestisce valori nulli e infine imuove spazi multipli\n",
        "\n",
        "Parte 2-5:\n",
        "Analisi e preparazione dei dati: Tokenizzazione del testo, creazione di sequenze con padding e split dei dati in training (80%) e validation (20%), infine creazione clss weight bilanciati\n",
        "\n",
        "Parte 6:\n",
        "Architettura del modello LSTM con:\n",
        "- Layer di embedding con dimensione 100\n",
        "- Layer LSTM bidirezionale con 128 unità\n",
        "- GlobalMaxPooling sui risultati LSTM\n",
        "- Dropout (0.3) e BatchNormalization\n",
        "- Dense layer con 128 unità e attivazione ReLU\n",
        "- Output layer con attivazione sigmoid per classificazione multi-label\n",
        "\n",
        "Parte 7:\n",
        "Strategie di training\n",
        "- batch size di 128 per maggiore stabilità\n",
        "- Adam optimizer con learning rate 0.001\n",
        "- Early Stopping con patience=3\n",
        "- ReduceLROnPlateau per ridurre il learning rate quando necessario\n",
        "- ModelCheckpoint per salvare la versione migliore\n",
        "\n",
        "Parte 8:\n",
        "Ottimizzazione soglie nella validation:\n",
        "- soglie più basse (0.3) per classi rare\n",
        "- ottimizzato rispetto a F1-score\n",
        "\n",
        "Parte 9:\n",
        "Valutazione del modello:\n",
        "- precision, recall e F1-score\n",
        "- matrici di confusione\n",
        "\n",
        "Parte 10:\n",
        "Visualizzazione e salvataggio\n",
        "- grafici di training e validation accuracy/loss\n",
        "- salvataggio\n",
        "\n"
      ],
      "metadata": {
        "id": "nipVlT64CgKA"
      }
    },
    {
      "cell_type": "code",
      "source": [
        "# 1. PREPROCESSING DEL TESTO\n",
        "def preprocess_text(text):\n",
        "    # Gestione valori NaN\n",
        "    text = str(text) if pd.notna(text) else \"\"\n",
        "    # Conversione a minuscolo\n",
        "    text = text.lower()\n",
        "    # Rimozione caratteri speciali ma mantenimento di spazi e punteggiatura\n",
        "    text = re.sub(r'[^\\w\\s\\.\\!\\?]', ' ', text)\n",
        "    # Rimozione spazi multipli\n",
        "    text = re.sub(r'\\s+', ' ', text).strip()\n",
        "    return text\n",
        "\n",
        "# Assicuriamoci che la colonna dei commenti esista\n",
        "comment_column = 'comment_text' if 'comment_text' in data.columns else data.columns[0]\n",
        "data['processed_comment'] = data[comment_column].apply(preprocess_text)"
      ],
      "metadata": {
        "id": "nLSL_XOW67gL"
      },
      "execution_count": 15,
      "outputs": []
    },
    {
      "cell_type": "code",
      "source": [
        "# 2. CONFIGURAZIONE E ANALISI DATI\n",
        "# Identifichiamo le colonne\n",
        "all(cat in data.columns for cat in ['toxic', 'severe_toxic', 'obscene', 'threat', 'insult', 'identity_hate'])\n",
        "categories = ['toxic', 'severe_toxic', 'obscene', 'threat', 'insult', 'identity_hate']\n",
        "\n",
        "critical_categories = ['threat', 'identity_hate'] if all(cat in categories for cat in ['threat', 'identity_hate']) else []\n",
        "\n",
        "#distribuzione classi\n",
        "for category in categories:\n",
        "    count = data[category].sum()\n",
        "    total = len(data)\n",
        "    print(f\"{category}: {count} campioni ({count/total*100:.2f}%)\")\n"
      ],
      "metadata": {
        "colab": {
          "base_uri": "https://localhost:8080/"
        },
        "id": "bLg-X6Tm68Ky",
        "outputId": "55407f6b-94a1-42c5-f571-5fd0086224fc"
      },
      "execution_count": 16,
      "outputs": [
        {
          "output_type": "stream",
          "name": "stdout",
          "text": [
            "toxic: 15294 campioni (9.58%)\n",
            "severe_toxic: 1595 campioni (1.00%)\n",
            "obscene: 8449 campioni (5.29%)\n",
            "threat: 478 campioni (0.30%)\n",
            "insult: 7877 campioni (4.94%)\n",
            "identity_hate: 1405 campioni (0.88%)\n"
          ]
        }
      ]
    },
    {
      "cell_type": "code",
      "source": [
        "# 3. CAMPIONAMENTO STRATIFICATO PER FARE I TEST\n",
        "# # Prendiamo un sottoinsieme più piccolo ma bilanciato per fare i test\n",
        "# subset_size = 100000  # Dimensione del sottoinsieme\n",
        "\n",
        "# if len(data) > subset_size:\n",
        "#     print(f\"\\nDataset: ({len(data)}\")\n",
        "\n",
        "#     # Identifica gli indici di tutti gli esempi delle classi critiche\n",
        "#     critical_indices = []\n",
        "#     if critical_categories:\n",
        "#         for category in critical_categories:\n",
        "#             critical_indices.extend(data[data[category] == 1].index.tolist())\n",
        "\n",
        "#         critical_indices = list(set(critical_indices))  # Rimuovi duplicati\n",
        "#         print(f\"Inclusi {len(critical_indices)} esempi dalle classi critiche\")\n",
        "\n",
        "#     # Identifica indici non critici per campionamento casuale\n",
        "#     non_critical_indices = list(set(data.index) - set(critical_indices))\n",
        "#     n_remaining = min(subset_size - len(critical_indices), len(non_critical_indices))\n",
        "\n",
        "#     # Campionamento casuale per gli esempi rimanenti\n",
        "#     if n_remaining > 0:\n",
        "#         random_indices = np.random.choice(non_critical_indices, n_remaining, replace=False)\n",
        "#         selected_indices = np.concatenate([critical_indices, random_indices])\n",
        "#     else:\n",
        "#         selected_indices = critical_indices[:subset_size]  # Limita se ci sono troppe istanze critiche\n",
        "\n",
        "#     # Crea il sottoinsieme stratificato\n",
        "#     data = data.loc[selected_indices].reset_index(drop=True)\n",
        "#     print(f\"Dimensione del sottoinsieme finale: {len(data)}\")\n",
        "\n",
        "# Report sulla distribuzione delle classi critiche\n",
        "if critical_categories:\n",
        "    for category in critical_categories:\n",
        "        count = data[category].sum()\n",
        "        total = len(data)\n",
        "        print(f\"Classe critica '{category}': {count} esempi ({count/total*100:.2f}%)\")\n",
        "\n",
        "#utilizziamo tutti i dati disponibili\n",
        "print(f\"Utilizzando tutti i {len(data)} esempi per il training\")"
      ],
      "metadata": {
        "colab": {
          "base_uri": "https://localhost:8080/"
        },
        "id": "uCJrvoOK68HO",
        "outputId": "dc875f8e-a0e0-4ed5-8a91-2bfcdcaf95fe"
      },
      "execution_count": 17,
      "outputs": [
        {
          "output_type": "stream",
          "name": "stdout",
          "text": [
            "Classe critica 'threat': 478 esempi (0.30%)\n",
            "Classe critica 'identity_hate': 1405 esempi (0.88%)\n",
            "Utilizzando tutti i 159571 esempi per il training\n"
          ]
        }
      ]
    },
    {
      "cell_type": "code",
      "source": [
        "# 4. PREPARAZIONE DATI\n",
        "max_features = 20000  # Dimensione vocabolario\n",
        "maxlen = 100          # Lunghezza massima sequenza\n",
        "\n",
        "# Tokenizzazione\n",
        "tokenizer = Tokenizer(num_words=max_features)\n",
        "tokenizer.fit_on_texts(data['processed_comment'])\n",
        "sequences = tokenizer.texts_to_sequences(data['processed_comment'])\n",
        "X = pad_sequences(sequences, maxlen=maxlen)\n",
        "\n",
        "#formato corretto\n",
        "all(cat in data.columns for cat in categories)\n",
        "y = data[categories].values\n",
        "\n",
        "# Split dei dati\n",
        "X_train, X_val, y_train, y_val = train_test_split(X, y, test_size=0.2, random_state=42, stratify=y if len(y) < 10000 else None)\n",
        "print(f\"Training: {X_train.shape[0]}, Validation: {X_val.shape[0]}\")"
      ],
      "metadata": {
        "colab": {
          "base_uri": "https://localhost:8080/"
        },
        "id": "snDFCX9Z68ER",
        "outputId": "5005c980-cc10-43d4-ab3b-35a4ae352c5d"
      },
      "execution_count": 18,
      "outputs": [
        {
          "output_type": "stream",
          "name": "stdout",
          "text": [
            "Training: 127656, Validation: 31915\n"
          ]
        }
      ]
    },
    {
      "cell_type": "code",
      "source": [
        "# 5. CALCOLO CLASS WEIGHTS BILANCIATI\n",
        "class_weights = {}\n",
        "\n",
        "for i, category in enumerate(categories):\n",
        "    # Calcolo pesi inversamente proporzionali alla frequenza\n",
        "    pos_weight = len(y_train) / (2 * np.sum(y_train[:, i])) if np.sum(y_train[:, i]) > 0 else 1.0\n",
        "    neg_weight = len(y_train) / (2 * (len(y_train) - np.sum(y_train[:, i]))) if len(y_train) - np.sum(y_train[:, i]) > 0 else 1.0\n",
        "\n",
        "    # Limitare i pesi per evitare instabilità\n",
        "    pos_weight = min(pos_weight, 10.0)\n",
        "    neg_weight = min(neg_weight, 10.0)\n",
        "\n",
        "    # Definire i class weights\n",
        "    class_weights[i] = {0: neg_weight, 1: pos_weight}\n",
        "\n",
        "    print(f\"{category}: peso classe positiva = {pos_weight:.2f}, peso classe negativa = {neg_weight:.2f}\")\n"
      ],
      "metadata": {
        "colab": {
          "base_uri": "https://localhost:8080/"
        },
        "id": "1Sc5k9r77uW0",
        "outputId": "c08df141-3829-442e-ee2b-264f3c6f130c"
      },
      "execution_count": 19,
      "outputs": [
        {
          "output_type": "stream",
          "name": "stdout",
          "text": [
            "toxic: peso classe positiva = 5.22, peso classe negativa = 0.55\n",
            "severe_toxic: peso classe positiva = 10.00, peso classe negativa = 0.51\n",
            "obscene: peso classe positiva = 9.48, peso classe negativa = 0.53\n",
            "threat: peso classe positiva = 10.00, peso classe negativa = 0.50\n",
            "insult: peso classe positiva = 10.00, peso classe negativa = 0.53\n",
            "identity_hate: peso classe positiva = 10.00, peso classe negativa = 0.50\n"
          ]
        }
      ]
    },
    {
      "cell_type": "code",
      "source": [
        "# 6. CREAZIONE MODELLO LSTM\n",
        "\n",
        "def create_balanced_model():\n",
        "    # Input layer\n",
        "    input_layer = Input(shape=(maxlen,))\n",
        "\n",
        "    # Embedding layer\n",
        "    embedding = Embedding(\n",
        "        input_dim=min(max_features, len(tokenizer.word_index) + 1),\n",
        "        output_dim=100,\n",
        "        input_length=maxlen,\n",
        "        embeddings_regularizer=l2(1e-6)\n",
        "    )(input_layer)\n",
        "\n",
        "    # SpatialDropout1D\n",
        "    spatial_dropout = SpatialDropout1D(0.2)(embedding)\n",
        "\n",
        "    # LSTM bidirezionale\n",
        "    lstm = Bidirectional(LSTM(64, return_sequences=True,\n",
        "                              dropout=0.2, recurrent_dropout=0.2))(spatial_dropout)\n",
        "\n",
        "    # Pooling\n",
        "    pooled = GlobalMaxPooling1D()(lstm)\n",
        "\n",
        "    # Fully connected layers\n",
        "    dropout1 = Dropout(0.3)(pooled)\n",
        "    dense1 = Dense(128, activation='relu', kernel_regularizer=l2(0.0005))(dropout1)\n",
        "    bn = BatchNormalization()(dense1)\n",
        "    dropout2 = Dropout(0.3)(bn)\n",
        "\n",
        "    # Output layer\n",
        "    output = Dense(len(categories), activation='sigmoid')(dropout2)\n",
        "\n",
        "    # Creazione modello\n",
        "    model = Model(inputs=input_layer, outputs=output)\n",
        "\n",
        "    # Compile\n",
        "    model.compile(\n",
        "        loss='binary_crossentropy',\n",
        "        optimizer=Adam(learning_rate=0.001),\n",
        "        metrics=['accuracy']\n",
        "    )\n",
        "\n",
        "    return model"
      ],
      "metadata": {
        "id": "aLsEF_Si7P0X"
      },
      "execution_count": 26,
      "outputs": []
    },
    {
      "cell_type": "code",
      "source": [
        "# 7. TRAINING CON GESTIONE CUSTOM\n",
        "model = create_balanced_model()\n",
        "model.summary()\n",
        "\n",
        "# Callbacks con monitor di accuracy\n",
        "callbacks = [\n",
        "    # Early stopping\n",
        "    EarlyStopping(\n",
        "        monitor='val_accuracy',\n",
        "        patience=3,\n",
        "        restore_best_weights=True,\n",
        "        min_delta=0.001\n",
        "    ),\n",
        "    # Learning rate reduction con monitor accuracy\n",
        "    ReduceLROnPlateau(\n",
        "        monitor='val_accuracy',\n",
        "        factor=0.5,\n",
        "        patience=2,\n",
        "        min_lr=0.0001,\n",
        "        verbose=1,\n",
        "        mode='max'\n",
        "    ),\n",
        "    # Salvataggio modello\n",
        "  ModelCheckpoint(\n",
        "      filepath=os.path.join(output_dir, 'best_model.weights.h5'),\n",
        "      monitor='val_accuracy',\n",
        "      save_best_only=True,\n",
        "      save_weights_only=True,\n",
        "      verbose=1,\n",
        "      mode='max'\n",
        "  )\n",
        "]\n",
        "\n",
        "# Training\n",
        "history = model.fit(\n",
        "    X_train, y_train,\n",
        "    validation_data=(X_val, y_val),\n",
        "    epochs=10,\n",
        "    batch_size=256,\n",
        "    callbacks=callbacks,\n",
        "    class_weight=class_weights[0],\n",
        "    verbose=1\n",
        ")"
      ],
      "metadata": {
        "colab": {
          "base_uri": "https://localhost:8080/",
          "height": 849
        },
        "id": "YFmsAs0h7Pwr",
        "outputId": "a1d914d6-d989-48d2-9fe0-ae560d95be0a"
      },
      "execution_count": 28,
      "outputs": [
        {
          "output_type": "display_data",
          "data": {
            "text/plain": [
              "\u001b[1mModel: \"functional_6\"\u001b[0m\n"
            ],
            "text/html": [
              "<pre style=\"white-space:pre;overflow-x:auto;line-height:normal;font-family:Menlo,'DejaVu Sans Mono',consolas,'Courier New',monospace\"><span style=\"font-weight: bold\">Model: \"functional_6\"</span>\n",
              "</pre>\n"
            ]
          },
          "metadata": {}
        },
        {
          "output_type": "display_data",
          "data": {
            "text/plain": [
              "┏━━━━━━━━━━━━━━━━━━━━━━━━━━━━━━━━━━━━━━┳━━━━━━━━━━━━━━━━━━━━━━━━━━━━━┳━━━━━━━━━━━━━━━━━┓\n",
              "┃\u001b[1m \u001b[0m\u001b[1mLayer (type)                        \u001b[0m\u001b[1m \u001b[0m┃\u001b[1m \u001b[0m\u001b[1mOutput Shape               \u001b[0m\u001b[1m \u001b[0m┃\u001b[1m \u001b[0m\u001b[1m        Param #\u001b[0m\u001b[1m \u001b[0m┃\n",
              "┡━━━━━━━━━━━━━━━━━━━━━━━━━━━━━━━━━━━━━━╇━━━━━━━━━━━━━━━━━━━━━━━━━━━━━╇━━━━━━━━━━━━━━━━━┩\n",
              "│ input_layer_6 (\u001b[38;5;33mInputLayer\u001b[0m)           │ (\u001b[38;5;45mNone\u001b[0m, \u001b[38;5;34m100\u001b[0m)                 │               \u001b[38;5;34m0\u001b[0m │\n",
              "├──────────────────────────────────────┼─────────────────────────────┼─────────────────┤\n",
              "│ embedding_6 (\u001b[38;5;33mEmbedding\u001b[0m)              │ (\u001b[38;5;45mNone\u001b[0m, \u001b[38;5;34m100\u001b[0m, \u001b[38;5;34m100\u001b[0m)            │       \u001b[38;5;34m2,000,000\u001b[0m │\n",
              "├──────────────────────────────────────┼─────────────────────────────┼─────────────────┤\n",
              "│ spatial_dropout1d_5                  │ (\u001b[38;5;45mNone\u001b[0m, \u001b[38;5;34m100\u001b[0m, \u001b[38;5;34m100\u001b[0m)            │               \u001b[38;5;34m0\u001b[0m │\n",
              "│ (\u001b[38;5;33mSpatialDropout1D\u001b[0m)                   │                             │                 │\n",
              "├──────────────────────────────────────┼─────────────────────────────┼─────────────────┤\n",
              "│ bidirectional_5 (\u001b[38;5;33mBidirectional\u001b[0m)      │ (\u001b[38;5;45mNone\u001b[0m, \u001b[38;5;34m100\u001b[0m, \u001b[38;5;34m128\u001b[0m)            │          \u001b[38;5;34m84,480\u001b[0m │\n",
              "├──────────────────────────────────────┼─────────────────────────────┼─────────────────┤\n",
              "│ global_max_pooling1d_6               │ (\u001b[38;5;45mNone\u001b[0m, \u001b[38;5;34m128\u001b[0m)                 │               \u001b[38;5;34m0\u001b[0m │\n",
              "│ (\u001b[38;5;33mGlobalMaxPooling1D\u001b[0m)                 │                             │                 │\n",
              "├──────────────────────────────────────┼─────────────────────────────┼─────────────────┤\n",
              "│ dropout_12 (\u001b[38;5;33mDropout\u001b[0m)                 │ (\u001b[38;5;45mNone\u001b[0m, \u001b[38;5;34m128\u001b[0m)                 │               \u001b[38;5;34m0\u001b[0m │\n",
              "├──────────────────────────────────────┼─────────────────────────────┼─────────────────┤\n",
              "│ dense_20 (\u001b[38;5;33mDense\u001b[0m)                     │ (\u001b[38;5;45mNone\u001b[0m, \u001b[38;5;34m128\u001b[0m)                 │          \u001b[38;5;34m16,512\u001b[0m │\n",
              "├──────────────────────────────────────┼─────────────────────────────┼─────────────────┤\n",
              "│ batch_normalization_10               │ (\u001b[38;5;45mNone\u001b[0m, \u001b[38;5;34m128\u001b[0m)                 │             \u001b[38;5;34m512\u001b[0m │\n",
              "│ (\u001b[38;5;33mBatchNormalization\u001b[0m)                 │                             │                 │\n",
              "├──────────────────────────────────────┼─────────────────────────────┼─────────────────┤\n",
              "│ dropout_13 (\u001b[38;5;33mDropout\u001b[0m)                 │ (\u001b[38;5;45mNone\u001b[0m, \u001b[38;5;34m128\u001b[0m)                 │               \u001b[38;5;34m0\u001b[0m │\n",
              "├──────────────────────────────────────┼─────────────────────────────┼─────────────────┤\n",
              "│ dense_21 (\u001b[38;5;33mDense\u001b[0m)                     │ (\u001b[38;5;45mNone\u001b[0m, \u001b[38;5;34m6\u001b[0m)                   │             \u001b[38;5;34m774\u001b[0m │\n",
              "└──────────────────────────────────────┴─────────────────────────────┴─────────────────┘\n"
            ],
            "text/html": [
              "<pre style=\"white-space:pre;overflow-x:auto;line-height:normal;font-family:Menlo,'DejaVu Sans Mono',consolas,'Courier New',monospace\">┏━━━━━━━━━━━━━━━━━━━━━━━━━━━━━━━━━━━━━━┳━━━━━━━━━━━━━━━━━━━━━━━━━━━━━┳━━━━━━━━━━━━━━━━━┓\n",
              "┃<span style=\"font-weight: bold\"> Layer (type)                         </span>┃<span style=\"font-weight: bold\"> Output Shape                </span>┃<span style=\"font-weight: bold\">         Param # </span>┃\n",
              "┡━━━━━━━━━━━━━━━━━━━━━━━━━━━━━━━━━━━━━━╇━━━━━━━━━━━━━━━━━━━━━━━━━━━━━╇━━━━━━━━━━━━━━━━━┩\n",
              "│ input_layer_6 (<span style=\"color: #0087ff; text-decoration-color: #0087ff\">InputLayer</span>)           │ (<span style=\"color: #00d7ff; text-decoration-color: #00d7ff\">None</span>, <span style=\"color: #00af00; text-decoration-color: #00af00\">100</span>)                 │               <span style=\"color: #00af00; text-decoration-color: #00af00\">0</span> │\n",
              "├──────────────────────────────────────┼─────────────────────────────┼─────────────────┤\n",
              "│ embedding_6 (<span style=\"color: #0087ff; text-decoration-color: #0087ff\">Embedding</span>)              │ (<span style=\"color: #00d7ff; text-decoration-color: #00d7ff\">None</span>, <span style=\"color: #00af00; text-decoration-color: #00af00\">100</span>, <span style=\"color: #00af00; text-decoration-color: #00af00\">100</span>)            │       <span style=\"color: #00af00; text-decoration-color: #00af00\">2,000,000</span> │\n",
              "├──────────────────────────────────────┼─────────────────────────────┼─────────────────┤\n",
              "│ spatial_dropout1d_5                  │ (<span style=\"color: #00d7ff; text-decoration-color: #00d7ff\">None</span>, <span style=\"color: #00af00; text-decoration-color: #00af00\">100</span>, <span style=\"color: #00af00; text-decoration-color: #00af00\">100</span>)            │               <span style=\"color: #00af00; text-decoration-color: #00af00\">0</span> │\n",
              "│ (<span style=\"color: #0087ff; text-decoration-color: #0087ff\">SpatialDropout1D</span>)                   │                             │                 │\n",
              "├──────────────────────────────────────┼─────────────────────────────┼─────────────────┤\n",
              "│ bidirectional_5 (<span style=\"color: #0087ff; text-decoration-color: #0087ff\">Bidirectional</span>)      │ (<span style=\"color: #00d7ff; text-decoration-color: #00d7ff\">None</span>, <span style=\"color: #00af00; text-decoration-color: #00af00\">100</span>, <span style=\"color: #00af00; text-decoration-color: #00af00\">128</span>)            │          <span style=\"color: #00af00; text-decoration-color: #00af00\">84,480</span> │\n",
              "├──────────────────────────────────────┼─────────────────────────────┼─────────────────┤\n",
              "│ global_max_pooling1d_6               │ (<span style=\"color: #00d7ff; text-decoration-color: #00d7ff\">None</span>, <span style=\"color: #00af00; text-decoration-color: #00af00\">128</span>)                 │               <span style=\"color: #00af00; text-decoration-color: #00af00\">0</span> │\n",
              "│ (<span style=\"color: #0087ff; text-decoration-color: #0087ff\">GlobalMaxPooling1D</span>)                 │                             │                 │\n",
              "├──────────────────────────────────────┼─────────────────────────────┼─────────────────┤\n",
              "│ dropout_12 (<span style=\"color: #0087ff; text-decoration-color: #0087ff\">Dropout</span>)                 │ (<span style=\"color: #00d7ff; text-decoration-color: #00d7ff\">None</span>, <span style=\"color: #00af00; text-decoration-color: #00af00\">128</span>)                 │               <span style=\"color: #00af00; text-decoration-color: #00af00\">0</span> │\n",
              "├──────────────────────────────────────┼─────────────────────────────┼─────────────────┤\n",
              "│ dense_20 (<span style=\"color: #0087ff; text-decoration-color: #0087ff\">Dense</span>)                     │ (<span style=\"color: #00d7ff; text-decoration-color: #00d7ff\">None</span>, <span style=\"color: #00af00; text-decoration-color: #00af00\">128</span>)                 │          <span style=\"color: #00af00; text-decoration-color: #00af00\">16,512</span> │\n",
              "├──────────────────────────────────────┼─────────────────────────────┼─────────────────┤\n",
              "│ batch_normalization_10               │ (<span style=\"color: #00d7ff; text-decoration-color: #00d7ff\">None</span>, <span style=\"color: #00af00; text-decoration-color: #00af00\">128</span>)                 │             <span style=\"color: #00af00; text-decoration-color: #00af00\">512</span> │\n",
              "│ (<span style=\"color: #0087ff; text-decoration-color: #0087ff\">BatchNormalization</span>)                 │                             │                 │\n",
              "├──────────────────────────────────────┼─────────────────────────────┼─────────────────┤\n",
              "│ dropout_13 (<span style=\"color: #0087ff; text-decoration-color: #0087ff\">Dropout</span>)                 │ (<span style=\"color: #00d7ff; text-decoration-color: #00d7ff\">None</span>, <span style=\"color: #00af00; text-decoration-color: #00af00\">128</span>)                 │               <span style=\"color: #00af00; text-decoration-color: #00af00\">0</span> │\n",
              "├──────────────────────────────────────┼─────────────────────────────┼─────────────────┤\n",
              "│ dense_21 (<span style=\"color: #0087ff; text-decoration-color: #0087ff\">Dense</span>)                     │ (<span style=\"color: #00d7ff; text-decoration-color: #00d7ff\">None</span>, <span style=\"color: #00af00; text-decoration-color: #00af00\">6</span>)                   │             <span style=\"color: #00af00; text-decoration-color: #00af00\">774</span> │\n",
              "└──────────────────────────────────────┴─────────────────────────────┴─────────────────┘\n",
              "</pre>\n"
            ]
          },
          "metadata": {}
        },
        {
          "output_type": "display_data",
          "data": {
            "text/plain": [
              "\u001b[1m Total params: \u001b[0m\u001b[38;5;34m2,102,278\u001b[0m (8.02 MB)\n"
            ],
            "text/html": [
              "<pre style=\"white-space:pre;overflow-x:auto;line-height:normal;font-family:Menlo,'DejaVu Sans Mono',consolas,'Courier New',monospace\"><span style=\"font-weight: bold\"> Total params: </span><span style=\"color: #00af00; text-decoration-color: #00af00\">2,102,278</span> (8.02 MB)\n",
              "</pre>\n"
            ]
          },
          "metadata": {}
        },
        {
          "output_type": "display_data",
          "data": {
            "text/plain": [
              "\u001b[1m Trainable params: \u001b[0m\u001b[38;5;34m2,102,022\u001b[0m (8.02 MB)\n"
            ],
            "text/html": [
              "<pre style=\"white-space:pre;overflow-x:auto;line-height:normal;font-family:Menlo,'DejaVu Sans Mono',consolas,'Courier New',monospace\"><span style=\"font-weight: bold\"> Trainable params: </span><span style=\"color: #00af00; text-decoration-color: #00af00\">2,102,022</span> (8.02 MB)\n",
              "</pre>\n"
            ]
          },
          "metadata": {}
        },
        {
          "output_type": "display_data",
          "data": {
            "text/plain": [
              "\u001b[1m Non-trainable params: \u001b[0m\u001b[38;5;34m256\u001b[0m (1.00 KB)\n"
            ],
            "text/html": [
              "<pre style=\"white-space:pre;overflow-x:auto;line-height:normal;font-family:Menlo,'DejaVu Sans Mono',consolas,'Courier New',monospace\"><span style=\"font-weight: bold\"> Non-trainable params: </span><span style=\"color: #00af00; text-decoration-color: #00af00\">256</span> (1.00 KB)\n",
              "</pre>\n"
            ]
          },
          "metadata": {}
        },
        {
          "output_type": "stream",
          "name": "stdout",
          "text": [
            "Epoch 1/10\n",
            "\u001b[1m499/499\u001b[0m \u001b[32m━━━━━━━━━━━━━━━━━━━━\u001b[0m\u001b[37m\u001b[0m \u001b[1m0s\u001b[0m 958ms/step - accuracy: 0.3522 - loss: 0.1992\n",
            "Epoch 1: val_accuracy improved from -inf to 0.99411, saving model to ./model_results/best_model.weights.h5\n",
            "\u001b[1m499/499\u001b[0m \u001b[32m━━━━━━━━━━━━━━━━━━━━\u001b[0m\u001b[37m\u001b[0m \u001b[1m530s\u001b[0m 1s/step - accuracy: 0.3527 - loss: 0.1990 - val_accuracy: 0.9941 - val_loss: 0.1029 - learning_rate: 0.0010\n",
            "Epoch 2/10\n",
            "\u001b[1m499/499\u001b[0m \u001b[32m━━━━━━━━━━━━━━━━━━━━\u001b[0m\u001b[37m\u001b[0m \u001b[1m0s\u001b[0m 961ms/step - accuracy: 0.9327 - loss: 0.0330\n",
            "Epoch 2: val_accuracy did not improve from 0.99411\n",
            "\u001b[1m499/499\u001b[0m \u001b[32m━━━━━━━━━━━━━━━━━━━━\u001b[0m\u001b[37m\u001b[0m \u001b[1m563s\u001b[0m 1s/step - accuracy: 0.9327 - loss: 0.0330 - val_accuracy: 0.9940 - val_loss: 0.0516 - learning_rate: 0.0010\n",
            "Epoch 3/10\n",
            "\u001b[1m499/499\u001b[0m \u001b[32m━━━━━━━━━━━━━━━━━━━━\u001b[0m\u001b[37m\u001b[0m \u001b[1m0s\u001b[0m 971ms/step - accuracy: 0.9358 - loss: 0.0298\n",
            "Epoch 3: ReduceLROnPlateau reducing learning rate to 0.0005000000237487257.\n",
            "\n",
            "Epoch 3: val_accuracy did not improve from 0.99411\n",
            "\u001b[1m499/499\u001b[0m \u001b[32m━━━━━━━━━━━━━━━━━━━━\u001b[0m\u001b[37m\u001b[0m \u001b[1m566s\u001b[0m 1s/step - accuracy: 0.9358 - loss: 0.0298 - val_accuracy: 0.9939 - val_loss: 0.0529 - learning_rate: 0.0010\n",
            "Epoch 4/10\n",
            "\u001b[1m499/499\u001b[0m \u001b[32m━━━━━━━━━━━━━━━━━━━━\u001b[0m\u001b[37m\u001b[0m \u001b[1m0s\u001b[0m 967ms/step - accuracy: 0.9194 - loss: 0.0274\n",
            "Epoch 4: val_accuracy did not improve from 0.99411\n",
            "\u001b[1m499/499\u001b[0m \u001b[32m━━━━━━━━━━━━━━━━━━━━\u001b[0m\u001b[37m\u001b[0m \u001b[1m560s\u001b[0m 1s/step - accuracy: 0.9194 - loss: 0.0274 - val_accuracy: 0.9860 - val_loss: 0.0522 - learning_rate: 5.0000e-04\n"
          ]
        }
      ]
    },
    {
      "cell_type": "code",
      "source": [
        "# 8. OTTIMIZZAZIONE SOGLIE PER CLASSI SBILANCIATE\n",
        "\n",
        "# Predizione su validation set\n",
        "val_pred = model.predict(X_val)\n",
        "\n",
        "def optimize_thresholds(val_pred, y_val, categories, critical_categories):\n",
        "    \"\"\"Ottimizza le soglie di decisione per massimizzare F1-score\"\"\"\n",
        "    optimized_thresholds = []\n",
        "\n",
        "    for i, category in enumerate(categories):\n",
        "        # Gestisci il caso in cui non ci siano esempi positivi\n",
        "        if np.sum(y_val[:, i]) == 0:\n",
        "            print(f\"{category}: non ci sono esempi positivi nel validation set, soglia impostata a 0.5\")\n",
        "            optimized_thresholds.append(0.5)\n",
        "            continue\n",
        "\n",
        "        best_f1 = 0\n",
        "        best_threshold = 0.5\n",
        "\n",
        "        # Per le classi critiche soglie più basse\n",
        "        start_threshold = 0.3 if category in critical_categories else 0.4\n",
        "\n",
        "        # Test diverse soglie\n",
        "        for threshold in np.arange(start_threshold, 0.7, 0.05):\n",
        "            y_pred_binary = (val_pred[:, i] >= threshold).astype(int)\n",
        "            f1 = f1_score(y_val[:, i], y_pred_binary, zero_division=0)\n",
        "            if f1 > best_f1:\n",
        "                best_f1 = f1\n",
        "                best_threshold = threshold\n",
        "\n",
        "        optimized_thresholds.append(best_threshold)\n",
        "        print(f\"{category}: soglia ottimale = {best_threshold:.2f} (F1-score = {best_f1:.4f})\")\n",
        "\n",
        "    return optimized_thresholds\n",
        "\n",
        "# Ottimizzazione soglie\n",
        "optimized_thresholds = optimize_thresholds(val_pred, y_val, categories, critical_categories)\n",
        "\n",
        "# Salvataggio soglie\n",
        "thresholds_path = os.path.join(output_dir, 'optimized_thresholds.pickle')\n",
        "with open(thresholds_path, 'wb') as handle:\n",
        "    pickle.dump(optimized_thresholds, handle, protocol=pickle.HIGHEST_PROTOCOL)\n",
        "print(f\"Soglie ottimizzate, in: {thresholds_path}\")\n"
      ],
      "metadata": {
        "colab": {
          "base_uri": "https://localhost:8080/"
        },
        "id": "bCn3NSM27PWs",
        "outputId": "e64d953a-a10e-4175-aded-281819aa2ac5"
      },
      "execution_count": 29,
      "outputs": [
        {
          "output_type": "stream",
          "name": "stdout",
          "text": [
            "\u001b[1m998/998\u001b[0m \u001b[32m━━━━━━━━━━━━━━━━━━━━\u001b[0m\u001b[37m\u001b[0m \u001b[1m56s\u001b[0m 55ms/step\n",
            "toxic: soglia ottimale = 0.40 (F1-score = 0.2113)\n",
            "severe_toxic: soglia ottimale = 0.50 (F1-score = 0.0000)\n",
            "obscene: soglia ottimale = 0.40 (F1-score = 0.0116)\n",
            "threat: soglia ottimale = 0.50 (F1-score = 0.0000)\n",
            "insult: soglia ottimale = 0.50 (F1-score = 0.0000)\n",
            "identity_hate: soglia ottimale = 0.50 (F1-score = 0.0000)\n",
            "Soglie ottimizzate, in: ./model_results/optimized_thresholds.pickle\n"
          ]
        }
      ]
    },
    {
      "cell_type": "code",
      "source": [
        "# 9. VALUTAZIONE SUL VALIDATION SET\n",
        "\n",
        "# Applicazione soglie ottimizzate\n",
        "y_pred_optimized = np.zeros_like(val_pred, dtype=int)\n",
        "for i, threshold in enumerate(optimized_thresholds):\n",
        "    y_pred_optimized[:, i] = (val_pred[:, i] >= threshold).astype(int)\n",
        "\n",
        "# Calcolo metriche\n",
        "results = []\n",
        "for i, category in enumerate(categories):\n",
        "    # Calcola metriche solo se ci sono esempi positivi\n",
        "    if np.sum(y_val[:, i]) > 0:\n",
        "        f1 = f1_score(y_val[:, i], y_pred_optimized[:, i], zero_division=0)\n",
        "        recall = recall_score(y_val[:, i], y_pred_optimized[:, i], zero_division=0)\n",
        "        precision = precision_score(y_val[:, i], y_pred_optimized[:, i], zero_division=0)\n",
        "\n",
        "        # Calcola F2 per le classi critiche\n",
        "        f2 = fbeta_score(y_val[:, i], y_pred_optimized[:, i], beta=2, zero_division=0) if category in critical_categories else 0\n",
        "\n",
        "        # Calcola confusion matrix\n",
        "        tn, fp, fn, tp = confusion_matrix(y_val[:, i], y_pred_optimized[:, i], labels=[0,1]).ravel()\n",
        "    else:\n",
        "        f1, recall, precision, f2 = 0, 0, 0, 0\n",
        "        tn, fp, fn, tp = 0, 0, 0, 0\n",
        "\n",
        "    #risultati\n",
        "    print(f\"{category}:\")\n",
        "    print(f\"  F1={f1:.4f}, Precision={precision:.4f}, Recall={recall:.4f}\")\n",
        "    if category in critical_categories:\n",
        "        print(f\"  F2={f2:.4f} (metrica prioritaria per questa classe)\")\n",
        "    print(f\"  TP={tp}, FP={fp}, FN={fn}, TN={tn}\")\n",
        "\n",
        "    # Salva\n",
        "    result_dict = {\n",
        "        'category': category,\n",
        "        'f1': f1,\n",
        "        'precision': precision,\n",
        "        'recall': recall,\n",
        "        'tp': int(tp),\n",
        "        'fp': int(fp),\n",
        "        'fn': int(fn),\n",
        "        'tn': int(tn)\n",
        "    }\n",
        "\n",
        "    if category in critical_categories:\n",
        "        result_dict['f2'] = f2\n",
        "\n",
        "    results.append(result_dict)\n",
        "\n",
        "# Salvataggio risultati\n",
        "results_df = pd.DataFrame(results)\n",
        "results_path = os.path.join(output_dir, 'evaluation_results.csv')\n",
        "results_df.to_csv(results_path, index=False)\n",
        "print(f\"Risultati di valutazione salvati in: {results_path}\")"
      ],
      "metadata": {
        "colab": {
          "base_uri": "https://localhost:8080/"
        },
        "id": "N9VFOZeK7atp",
        "outputId": "c1da9fe7-5f63-4747-8aee-aa8b3f499c39"
      },
      "execution_count": 30,
      "outputs": [
        {
          "output_type": "stream",
          "name": "stdout",
          "text": [
            "toxic:\n",
            "  F1=0.2113, Precision=1.0000, Recall=0.1181\n",
            "  TP=361, FP=0, FN=2695, TN=28859\n",
            "severe_toxic:\n",
            "  F1=0.0000, Precision=0.0000, Recall=0.0000\n",
            "  TP=0, FP=0, FN=321, TN=31594\n",
            "obscene:\n",
            "  F1=0.0116, Precision=0.9091, Recall=0.0058\n",
            "  TP=10, FP=1, FN=1705, TN=30199\n",
            "threat:\n",
            "  F1=0.0000, Precision=0.0000, Recall=0.0000\n",
            "  F2=0.0000 (metrica prioritaria per questa classe)\n",
            "  TP=0, FP=0, FN=74, TN=31841\n",
            "insult:\n",
            "  F1=0.0000, Precision=0.0000, Recall=0.0000\n",
            "  TP=0, FP=0, FN=1614, TN=30301\n",
            "identity_hate:\n",
            "  F1=0.0000, Precision=0.0000, Recall=0.0000\n",
            "  F2=0.0000 (metrica prioritaria per questa classe)\n",
            "  TP=0, FP=0, FN=294, TN=31621\n",
            "Risultati di valutazione salvati in: ./model_results/evaluation_results.csv\n"
          ]
        }
      ]
    },
    {
      "cell_type": "markdown",
      "source": [
        "## Risultato modello"
      ],
      "metadata": {
        "id": "Eh-ytcG_G7Ro"
      }
    },
    {
      "cell_type": "code",
      "source": [
        "# 10. VISUALIZZAZIONE CURVE DI TRAINING\n",
        "\n",
        "# Raccolta dati dalle metriche\n",
        "train_acc = history.history['accuracy']\n",
        "val_acc = history.history['val_accuracy']\n",
        "train_loss = history.history['loss']\n",
        "val_loss = history.history['val_loss']\n",
        "epochs_range = range(1, len(train_acc) + 1)\n",
        "\n",
        "# Creazione subplots (accuracy e loss)\n",
        "plt.figure(figsize=(16, 6))\n",
        "#accuracy\n",
        "plt.subplot(1, 2, 1)\n",
        "plt.plot(epochs_range, train_acc, 'bo-', label='Training Accuracy')\n",
        "plt.plot(epochs_range, val_acc, 'ro-', label='Validation Accuracy')\n",
        "plt.title('Training and Validation Accuracy')\n",
        "plt.xlabel('Epochs')\n",
        "plt.ylabel('Accuracy')\n",
        "plt.xticks(epochs_range)\n",
        "plt.legend()\n",
        "plt.grid(True)\n",
        "\n",
        "#loss\n",
        "plt.subplot(1, 2, 2)\n",
        "plt.plot(epochs_range, train_loss, 'bo-', label='Training Loss')\n",
        "plt.plot(epochs_range, val_loss, 'ro-', label='Validation Loss')\n",
        "plt.title('Training and Validation Loss')\n",
        "plt.xlabel('Epochs')\n",
        "plt.ylabel('Loss')\n",
        "plt.xticks(epochs_range)\n",
        "plt.legend()\n",
        "plt.grid(True)\n",
        "\n",
        "plt.tight_layout()\n",
        "curves_path = os.path.join(output_dir, 'training_curves.png')\n",
        "plt.savefig(curves_path, dpi=300)\n",
        "print(f\"Grafici salvati in: {curves_path}\")\n",
        "\n",
        "#Salvataggio del tokenizer\n",
        "tokenizer_path = os.path.join(output_dir, 'tokenizer.pickle')\n",
        "with open(tokenizer_path, 'wb') as handle:\n",
        "    pickle.dump(tokenizer, handle, protocol=pickle.HIGHEST_PROTOCOL)\n",
        "print(f\"Tokenizer salvato in: {tokenizer_path}\")\n",
        "\n",
        "\n"
      ],
      "metadata": {
        "colab": {
          "base_uri": "https://localhost:8080/",
          "height": 642
        },
        "id": "sBBtcWdQWe7w",
        "outputId": "359f181a-7940-4ebe-f6f8-9505f86ca1c7"
      },
      "execution_count": 31,
      "outputs": [
        {
          "output_type": "stream",
          "name": "stdout",
          "text": [
            "Grafici salvati in: ./model_results/training_curves.png\n",
            "Tokenizer salvato in: ./model_results/tokenizer.pickle\n"
          ]
        },
        {
          "output_type": "display_data",
          "data": {
            "text/plain": [
              "<Figure size 1600x600 with 2 Axes>"
            ],
            "image/png": "[encoded data removed]"
          },
          "metadata": {}
        }
      ]
    },
    {
      "cell_type": "markdown",
      "source": [
        "Il modello sta apprendendo efficacemente, come dimostrato dalla diminuzione delle loss e dall'alta accuratezza. In particolare:\n",
        "\n",
        "Grafico Accuracy\n",
        "\n",
        "La validation accuracy (linea rossa) si mantiene estremamente alta, quasi al 100% in tutte le epoche, con un leggero calo nell'ultima epoca ma comunque sopra il 98%.\n",
        "La training accuracy (linea blu) parte da circa il 57% e cresce rapidamente fino al 94% nella seconda epoca, mantenendosi poi stabile con una leggera flessione nell'ultima epoca.\n",
        "La differenza tra training e validation accuracy nella prima epoca è molto ampia, ma poi si riduce significativamente\n",
        "\n",
        "Grafico Loss\n",
        "\n",
        "Entrambe le loss partono da circa 0.10 e diminuiscono rapidamente.\n",
        "La training loss (blu) scende più velocemente della validation loss, raggiungendo un valore molto basso di circa 0.03.\n",
        "La validation loss (rossa) si stabilizza intorno a 0.05 dopo la seconda epoca"
      ],
      "metadata": {
        "id": "i7Edmek35Mzn"
      }
    },
    {
      "cell_type": "code",
      "source": [],
      "metadata": {
        "id": "ityCJ_on5Nph"
      },
      "execution_count": null,
      "outputs": []
    }
  ]
}